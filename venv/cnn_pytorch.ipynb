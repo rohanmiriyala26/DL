{
 "cells": [
  {
   "cell_type": "markdown",
   "id": "17997af2",
   "metadata": {},
   "source": [
    "Load Libraries"
   ]
  },
  {
   "cell_type": "code",
   "execution_count": 34,
   "id": "2be67cb0",
   "metadata": {},
   "outputs": [],
   "source": [
    "import torch\n",
    "import torch.nn as nn\n",
    "from torch.optim import optimizer\n",
    "from torchvision import datasets,transforms\n",
    "from torch.utils.data import DataLoader"
   ]
  },
  {
   "cell_type": "markdown",
   "id": "f1e7f4ac",
   "metadata": {},
   "source": [
    "Define Transformations"
   ]
  },
  {
   "cell_type": "code",
   "execution_count": 8,
   "id": "e0c07a47",
   "metadata": {},
   "outputs": [],
   "source": [
    "transform=transforms.Compose([\n",
    "    transforms.ToTensor(),\n",
    "    transforms.Normalize((0.5,0.5,0.5),(0.5,0.5,0.5))\n",
    "])"
   ]
  },
  {
   "cell_type": "markdown",
   "id": "26bab696",
   "metadata": {},
   "source": [
    "Load the data"
   ]
  },
  {
   "cell_type": "code",
   "execution_count": 25,
   "id": "c54e8457",
   "metadata": {},
   "outputs": [],
   "source": [
    "train_data=datasets.CIFAR10(root='./data',train=True,download=True,transform=transform)\n",
    "test_data=datasets.CIFAR10(root='./data',train=False,download=True,transform=transform)"
   ]
  },
  {
   "cell_type": "code",
   "execution_count": 29,
   "id": "7a1920bd",
   "metadata": {},
   "outputs": [],
   "source": [
    "train_loader=DataLoader(dataset=train_data,batch_size=64,shuffle=True)\n",
    "test_loader=DataLoader(dataset=test_data,batch_size=64,shuffle=False)"
   ]
  },
  {
   "cell_type": "markdown",
   "id": "17428275",
   "metadata": {},
   "source": [
    "Build the Architecture"
   ]
  },
  {
   "cell_type": "code",
   "execution_count": null,
   "id": "5df53d34",
   "metadata": {},
   "outputs": [],
   "source": [
    "class cnn_cifar(nn.Module):\n",
    "    def __init__(self):\n",
    "        super().__init__()\n",
    "        self.cnn1= nn.Conv2d(3,6,5)\n",
    "        self.cnn2= nn.Conv2d(6,16,5)\n",
    "        self.fc1= nn.Linear(24*24*16,120)\n",
    "        self.fc2= nn.Linear(120,84)\n",
    "        self.fc3= nn.Linear(84,10)\n",
    "               \n",
    "        "
   ]
  }
 ],
 "metadata": {
  "kernelspec": {
   "display_name": "Python 3",
   "language": "python",
   "name": "python3"
  },
  "language_info": {
   "codemirror_mode": {
    "name": "ipython",
    "version": 3
   },
   "file_extension": ".py",
   "mimetype": "text/x-python",
   "name": "python",
   "nbconvert_exporter": "python",
   "pygments_lexer": "ipython3",
   "version": "3.11.4"
  }
 },
 "nbformat": 4,
 "nbformat_minor": 5
}
